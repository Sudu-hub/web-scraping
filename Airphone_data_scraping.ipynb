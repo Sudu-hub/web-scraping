{
  "nbformat": 4,
  "nbformat_minor": 0,
  "metadata": {
    "colab": {
      "provenance": [],
      "authorship_tag": "ABX9TyN/lqbLE+DvLoZl8BCxdNiT",
      "include_colab_link": true
    },
    "kernelspec": {
      "name": "python3",
      "display_name": "Python 3"
    },
    "language_info": {
      "name": "python"
    }
  },
  "cells": [
    {
      "cell_type": "markdown",
      "metadata": {
        "id": "view-in-github",
        "colab_type": "text"
      },
      "source": [
        "<a href=\"https://colab.research.google.com/github/Sudu-hub/web-scraping/blob/main/Airphone_data_scraping.ipynb\" target=\"_parent\"><img src=\"https://colab.research.google.com/assets/colab-badge.svg\" alt=\"Open In Colab\"/></a>"
      ]
    },
    {
      "cell_type": "code",
      "execution_count": null,
      "metadata": {
        "id": "uxeHIqe1vtDp"
      },
      "outputs": [],
      "source": [
        "with open('head_phone.html','r', encoding='utf8') as f:\n",
        "  html = f.read()"
      ]
    },
    {
      "cell_type": "code",
      "source": [
        "from bs4 import BeautifulSoup\n",
        "import numpy as np\n",
        "import pandas as pd"
      ],
      "metadata": {
        "id": "MzunSIf1yhIV"
      },
      "execution_count": null,
      "outputs": []
    },
    {
      "cell_type": "code",
      "source": [
        "soup = BeautifulSoup(html,'lxml')"
      ],
      "metadata": {
        "id": "Sds1b_hWzVTB"
      },
      "execution_count": null,
      "outputs": []
    },
    {
      "cell_type": "code",
      "source": [
        "names = []\n",
        "price = []\n",
        "rating = []\n",
        "types = []\n",
        "ear_not = []\n",
        "wireless = []\n",
        "bluetooth = []\n",
        "microph = []\n",
        "range = []\n",
        "freq_responce = []\n",
        "driver = []\n",
        "\n",
        "for i in soup.find_all('div',{'class':'sm-product has-tag has-features has-actions'}):\n",
        "  try:\n",
        "    names.append(i.find('h2').text)\n",
        "  except:\n",
        "    names.append(np.nan)\n",
        "  try:\n",
        "    price.append(i.find('span',{'class':'price'}).text)\n",
        "  except:\n",
        "    price.append(np.nan)\n",
        "  try:\n",
        "        rating_element = i.find('div', class_='rating')\n",
        "        rating.append(rating_element.find('span')['style'].split(':')[1][:-1])\n",
        "  except:\n",
        "        print(np.nan)\n",
        "  try:\n",
        "    p = i.find('ul',{'class':'sm-feat specs'}).find_all('li')\n",
        "  except:\n",
        "    print(np.nan)\n",
        "  try:\n",
        "    types.append(p[0].text)\n",
        "  except:\n",
        "    types.append(np.nan)\n",
        "  \n",
        "  try:\n",
        "    ear_not.append(p[1].text)\n",
        "  except:\n",
        "    ear_not.append(np.nan)\n",
        "  \n",
        "  try:\n",
        "    wireless.append(p[2].text)\n",
        "  except:\n",
        "    wireless.append(np.nan)\n",
        "  \n",
        "  try:\n",
        "    bluetooth.append(p[3].text)\n",
        "  except:\n",
        "    bluetooth.append(np.nan)\n",
        "  \n",
        "  try:\n",
        "    microph.append(p[4].text)\n",
        "  except:\n",
        "    microph.append(np.nan)\n",
        "  \n",
        "  try:\n",
        "    range.append(p[5].text)\n",
        "  except:\n",
        "    range.append(np.nan)\n",
        "  \n",
        "  try:\n",
        "    freq_responce.append(p[6].text)\n",
        "  except:\n",
        "    freq_responce.append(np.nan)\n",
        "  \n",
        "  try:\n",
        "    driver.append(p[7].text)\n",
        "  except:\n",
        "    driver.append(np.nan)\n"
      ],
      "metadata": {
        "colab": {
          "base_uri": "https://localhost:8080/"
        },
        "id": "LHTCc94l2ivO",
        "outputId": "695856a1-837f-4475-f483-a4a13815d464"
      },
      "execution_count": null,
      "outputs": [
        {
          "output_type": "stream",
          "name": "stdout",
          "text": [
            "nan\n"
          ]
        }
      ]
    },
    {
      "cell_type": "code",
      "source": [
        "df = pd.DataFrame({\n",
        "    'names' : names,\n",
        "    'price' : price,\n",
        "    'rating' : rating,\n",
        "    'types' : types,\n",
        "    'ear_not' : ear_not,\n",
        "    'wireless' : wireless,\n",
        "    'bluetooth' : bluetooth,\n",
        "    'microph' : microph,\n",
        "    'range' : range,\n",
        "    'freq_responce' : freq_responce,\n",
        "    'driver' : driver\n",
        "})"
      ],
      "metadata": {
        "id": "vgHUINpm3CzM"
      },
      "execution_count": null,
      "outputs": []
    },
    {
      "cell_type": "code",
      "source": [
        "df.head().style.set_properties(**{\"background-color\": \"#254E58\",\"color\":\"#e9c46a\",\"border\": \"1.5px solid black\"})"
      ],
      "metadata": {
        "colab": {
          "base_uri": "https://localhost:8080/",
          "height": 543
        },
        "id": "bN8UMRCyC6gG",
        "outputId": "669a6ef9-7668-44c7-c484-d2cb7ad9f272"
      },
      "execution_count": null,
      "outputs": [
        {
          "output_type": "execute_result",
          "data": {
            "text/plain": [
              "<pandas.io.formats.style.Styler at 0x7fdc943851f0>"
            ],
            "text/html": [
              "<style type=\"text/css\">\n",
              "#T_a2c20_row0_col0, #T_a2c20_row0_col1, #T_a2c20_row0_col2, #T_a2c20_row0_col3, #T_a2c20_row0_col4, #T_a2c20_row0_col5, #T_a2c20_row0_col6, #T_a2c20_row0_col7, #T_a2c20_row0_col8, #T_a2c20_row0_col9, #T_a2c20_row0_col10, #T_a2c20_row1_col0, #T_a2c20_row1_col1, #T_a2c20_row1_col2, #T_a2c20_row1_col3, #T_a2c20_row1_col4, #T_a2c20_row1_col5, #T_a2c20_row1_col6, #T_a2c20_row1_col7, #T_a2c20_row1_col8, #T_a2c20_row1_col9, #T_a2c20_row1_col10, #T_a2c20_row2_col0, #T_a2c20_row2_col1, #T_a2c20_row2_col2, #T_a2c20_row2_col3, #T_a2c20_row2_col4, #T_a2c20_row2_col5, #T_a2c20_row2_col6, #T_a2c20_row2_col7, #T_a2c20_row2_col8, #T_a2c20_row2_col9, #T_a2c20_row2_col10, #T_a2c20_row3_col0, #T_a2c20_row3_col1, #T_a2c20_row3_col2, #T_a2c20_row3_col3, #T_a2c20_row3_col4, #T_a2c20_row3_col5, #T_a2c20_row3_col6, #T_a2c20_row3_col7, #T_a2c20_row3_col8, #T_a2c20_row3_col9, #T_a2c20_row3_col10, #T_a2c20_row4_col0, #T_a2c20_row4_col1, #T_a2c20_row4_col2, #T_a2c20_row4_col3, #T_a2c20_row4_col4, #T_a2c20_row4_col5, #T_a2c20_row4_col6, #T_a2c20_row4_col7, #T_a2c20_row4_col8, #T_a2c20_row4_col9, #T_a2c20_row4_col10 {\n",
              "  background-color: #254E58;\n",
              "  color: #e9c46a;\n",
              "  border: 1.5px solid black;\n",
              "}\n",
              "</style>\n",
              "<table id=\"T_a2c20_\" class=\"dataframe\">\n",
              "  <thead>\n",
              "    <tr>\n",
              "      <th class=\"blank level0\" >&nbsp;</th>\n",
              "      <th class=\"col_heading level0 col0\" >names</th>\n",
              "      <th class=\"col_heading level0 col1\" >price</th>\n",
              "      <th class=\"col_heading level0 col2\" >rating</th>\n",
              "      <th class=\"col_heading level0 col3\" >types</th>\n",
              "      <th class=\"col_heading level0 col4\" >ear_not</th>\n",
              "      <th class=\"col_heading level0 col5\" >wireless</th>\n",
              "      <th class=\"col_heading level0 col6\" >bluetooth</th>\n",
              "      <th class=\"col_heading level0 col7\" >microph</th>\n",
              "      <th class=\"col_heading level0 col8\" >range</th>\n",
              "      <th class=\"col_heading level0 col9\" >freq_responce</th>\n",
              "      <th class=\"col_heading level0 col10\" >driver</th>\n",
              "    </tr>\n",
              "  </thead>\n",
              "  <tbody>\n",
              "    <tr>\n",
              "      <th id=\"T_a2c20_level0_row0\" class=\"row_heading level0 row0\" >0</th>\n",
              "      <td id=\"T_a2c20_row0_col0\" class=\"data row0 col0\" >Boult Audio Airbass X45 True Wireless Earbuds</td>\n",
              "      <td id=\"T_a2c20_row0_col1\" class=\"data row0 col1\" >₹999</td>\n",
              "      <td id=\"T_a2c20_row0_col2\" class=\"data row0 col2\" >4.65</td>\n",
              "      <td id=\"T_a2c20_row0_col3\" class=\"data row0 col3\" >TWS Earbuds</td>\n",
              "      <td id=\"T_a2c20_row0_col4\" class=\"data row0 col4\" >In the Ear</td>\n",
              "      <td id=\"T_a2c20_row0_col5\" class=\"data row0 col5\" >Wireless Headphones</td>\n",
              "      <td id=\"T_a2c20_row0_col6\" class=\"data row0 col6\" >Bluetooth 5.3</td>\n",
              "      <td id=\"T_a2c20_row0_col7\" class=\"data row0 col7\" >Microphone</td>\n",
              "      <td id=\"T_a2c20_row0_col8\" class=\"data row0 col8\" >10 m Range</td>\n",
              "      <td id=\"T_a2c20_row0_col9\" class=\"data row0 col9\" >20 Hz (Min) - 20 KHz (Max) Frequency Response</td>\n",
              "      <td id=\"T_a2c20_row0_col10\" class=\"data row0 col10\" >13 mm Driver</td>\n",
              "    </tr>\n",
              "    <tr>\n",
              "      <th id=\"T_a2c20_level0_row1\" class=\"row_heading level0 row1\" >1</th>\n",
              "      <td id=\"T_a2c20_row1_col0\" class=\"data row1 col0\" >boAt Airdopes 170 True Wireless Earbuds</td>\n",
              "      <td id=\"T_a2c20_row1_col1\" class=\"data row1 col1\" >₹1,299</td>\n",
              "      <td id=\"T_a2c20_row1_col2\" class=\"data row1 col2\" >4.6</td>\n",
              "      <td id=\"T_a2c20_row1_col3\" class=\"data row1 col3\" >TWS Earbuds</td>\n",
              "      <td id=\"T_a2c20_row1_col4\" class=\"data row1 col4\" >In the Ear</td>\n",
              "      <td id=\"T_a2c20_row1_col5\" class=\"data row1 col5\" >Wireless Headphones</td>\n",
              "      <td id=\"T_a2c20_row1_col6\" class=\"data row1 col6\" >Bluetooth 5.3</td>\n",
              "      <td id=\"T_a2c20_row1_col7\" class=\"data row1 col7\" >Microphone</td>\n",
              "      <td id=\"T_a2c20_row1_col8\" class=\"data row1 col8\" >10 m Range</td>\n",
              "      <td id=\"T_a2c20_row1_col9\" class=\"data row1 col9\" >20 Hz (Min) - 20 KHz (Max) Frequency Response</td>\n",
              "      <td id=\"T_a2c20_row1_col10\" class=\"data row1 col10\" >13 mm Driver</td>\n",
              "    </tr>\n",
              "    <tr>\n",
              "      <th id=\"T_a2c20_level0_row2\" class=\"row_heading level0 row2\" >2</th>\n",
              "      <td id=\"T_a2c20_row2_col0\" class=\"data row2 col0\" >boAt Immortal 131 True Wireless Earbuds</td>\n",
              "      <td id=\"T_a2c20_row2_col1\" class=\"data row2 col1\" >₹1,299</td>\n",
              "      <td id=\"T_a2c20_row2_col2\" class=\"data row2 col2\" >4</td>\n",
              "      <td id=\"T_a2c20_row2_col3\" class=\"data row2 col3\" >TWS Earbuds</td>\n",
              "      <td id=\"T_a2c20_row2_col4\" class=\"data row2 col4\" >In the Ear</td>\n",
              "      <td id=\"T_a2c20_row2_col5\" class=\"data row2 col5\" >Wireless Headphones</td>\n",
              "      <td id=\"T_a2c20_row2_col6\" class=\"data row2 col6\" >Bluetooth 5.3</td>\n",
              "      <td id=\"T_a2c20_row2_col7\" class=\"data row2 col7\" >Microphone</td>\n",
              "      <td id=\"T_a2c20_row2_col8\" class=\"data row2 col8\" >10 m Range</td>\n",
              "      <td id=\"T_a2c20_row2_col9\" class=\"data row2 col9\" >20 Hz (Min) - 20 KHz (Max) Frequency Response</td>\n",
              "      <td id=\"T_a2c20_row2_col10\" class=\"data row2 col10\" >40 hours Battery Life with Case</td>\n",
              "    </tr>\n",
              "    <tr>\n",
              "      <th id=\"T_a2c20_level0_row3\" class=\"row_heading level0 row3\" >3</th>\n",
              "      <td id=\"T_a2c20_row3_col0\" class=\"data row3 col0\" >boAt Airdopes 141 True Wireless Earbuds</td>\n",
              "      <td id=\"T_a2c20_row3_col1\" class=\"data row3 col1\" >₹1,499</td>\n",
              "      <td id=\"T_a2c20_row3_col2\" class=\"data row3 col2\" >4.55</td>\n",
              "      <td id=\"T_a2c20_row3_col3\" class=\"data row3 col3\" >TWS Earbuds</td>\n",
              "      <td id=\"T_a2c20_row3_col4\" class=\"data row3 col4\" >In the Ear</td>\n",
              "      <td id=\"T_a2c20_row3_col5\" class=\"data row3 col5\" >Wireless Headphones</td>\n",
              "      <td id=\"T_a2c20_row3_col6\" class=\"data row3 col6\" >Bluetooth 5.0</td>\n",
              "      <td id=\"T_a2c20_row3_col7\" class=\"data row3 col7\" >Microphone</td>\n",
              "      <td id=\"T_a2c20_row3_col8\" class=\"data row3 col8\" >10 m Range</td>\n",
              "      <td id=\"T_a2c20_row3_col9\" class=\"data row3 col9\" >20 Hz (Min) - 20 KHz (Max) Frequency Response</td>\n",
              "      <td id=\"T_a2c20_row3_col10\" class=\"data row3 col10\" >8 mm Driver</td>\n",
              "    </tr>\n",
              "    <tr>\n",
              "      <th id=\"T_a2c20_level0_row4\" class=\"row_heading level0 row4\" >4</th>\n",
              "      <td id=\"T_a2c20_row4_col0\" class=\"data row4 col0\" >OPPO Enco Air 2i True Wireless Earbuds</td>\n",
              "      <td id=\"T_a2c20_row4_col1\" class=\"data row4 col1\" >₹1,999</td>\n",
              "      <td id=\"T_a2c20_row4_col2\" class=\"data row4 col2\" >4.2</td>\n",
              "      <td id=\"T_a2c20_row4_col3\" class=\"data row4 col3\" >TWS Earbuds</td>\n",
              "      <td id=\"T_a2c20_row4_col4\" class=\"data row4 col4\" >In the Ear</td>\n",
              "      <td id=\"T_a2c20_row4_col5\" class=\"data row4 col5\" >Wireless Headphones</td>\n",
              "      <td id=\"T_a2c20_row4_col6\" class=\"data row4 col6\" >Bluetooth 5.2</td>\n",
              "      <td id=\"T_a2c20_row4_col7\" class=\"data row4 col7\" >Microphone</td>\n",
              "      <td id=\"T_a2c20_row4_col8\" class=\"data row4 col8\" >10 m Range</td>\n",
              "      <td id=\"T_a2c20_row4_col9\" class=\"data row4 col9\" >20 Hz (Min) - 20 KHz (Max) Frequency Response</td>\n",
              "      <td id=\"T_a2c20_row4_col10\" class=\"data row4 col10\" >10 mm Driver</td>\n",
              "    </tr>\n",
              "  </tbody>\n",
              "</table>\n"
            ]
          },
          "metadata": {},
          "execution_count": 34
        }
      ]
    },
    {
      "cell_type": "code",
      "source": [
        "Airphone = df.copy()"
      ],
      "metadata": {
        "id": "eGnBHRDbq2Wt"
      },
      "execution_count": null,
      "outputs": []
    },
    {
      "cell_type": "code",
      "source": [],
      "metadata": {
        "id": "8ecs1AkNx8NH"
      },
      "execution_count": null,
      "outputs": []
    }
  ]
}